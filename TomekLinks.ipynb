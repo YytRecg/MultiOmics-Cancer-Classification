{
 "cells": [
  {
   "cell_type": "code",
   "execution_count": 2,
   "id": "5f4ae5fe",
   "metadata": {},
   "outputs": [
    {
     "ename": "ModuleNotFoundError",
     "evalue": "No module named 'imblearn'",
     "output_type": "error",
     "traceback": [
      "\u001b[0;31m---------------------------------------------------------------------------\u001b[0m",
      "\u001b[0;31mModuleNotFoundError\u001b[0m                       Traceback (most recent call last)",
      "\u001b[1;32m/Users/yutingyang/Downloads/Cancer_Research/clustering_data/breast_cancer_data/Untitled.ipynb Cell 1\u001b[0m in \u001b[0;36m<cell line: 4>\u001b[0;34m()\u001b[0m\n\u001b[1;32m      <a href='vscode-notebook-cell:/Users/yutingyang/Downloads/Cancer_Research/clustering_data/breast_cancer_data/Untitled.ipynb#W0sZmlsZQ%3D%3D?line=1'>2</a>\u001b[0m \u001b[39mfrom\u001b[39;00m \u001b[39msklearn\u001b[39;00m\u001b[39m.\u001b[39;00m\u001b[39mdatasets\u001b[39;00m \u001b[39mimport\u001b[39;00m make_classification\n\u001b[1;32m      <a href='vscode-notebook-cell:/Users/yutingyang/Downloads/Cancer_Research/clustering_data/breast_cancer_data/Untitled.ipynb#W0sZmlsZQ%3D%3D?line=2'>3</a>\u001b[0m \u001b[39mfrom\u001b[39;00m \u001b[39msklearn\u001b[39;00m\u001b[39m.\u001b[39;00m\u001b[39mmodel_selection\u001b[39;00m \u001b[39mimport\u001b[39;00m train_test_split\n\u001b[0;32m----> <a href='vscode-notebook-cell:/Users/yutingyang/Downloads/Cancer_Research/clustering_data/breast_cancer_data/Untitled.ipynb#W0sZmlsZQ%3D%3D?line=3'>4</a>\u001b[0m \u001b[39mfrom\u001b[39;00m \u001b[39mimblearn\u001b[39;00m\u001b[39m.\u001b[39;00m\u001b[39munder_sampling\u001b[39;00m \u001b[39mimport\u001b[39;00m TomekLinks\n\u001b[1;32m      <a href='vscode-notebook-cell:/Users/yutingyang/Downloads/Cancer_Research/clustering_data/breast_cancer_data/Untitled.ipynb#W0sZmlsZQ%3D%3D?line=5'>6</a>\u001b[0m \u001b[39m# Read CSV file\u001b[39;00m\n\u001b[1;32m      <a href='vscode-notebook-cell:/Users/yutingyang/Downloads/Cancer_Research/clustering_data/breast_cancer_data/Untitled.ipynb#W0sZmlsZQ%3D%3D?line=6'>7</a>\u001b[0m df \u001b[39m=\u001b[39m pd\u001b[39m.\u001b[39mread_csv(\u001b[39m'\u001b[39m\u001b[39mfinalDataReduced.csv\u001b[39m\u001b[39m'\u001b[39m)\n",
      "\u001b[0;31mModuleNotFoundError\u001b[0m: No module named 'imblearn'"
     ]
    }
   ],
   "source": [
    "import pandas as pd\n",
    "from sklearn.datasets import make_classification\n",
    "from sklearn.model_selection import train_test_split\n",
    "from imblearn.under_sampling import TomekLinks\n",
    "\n",
    "# Read CSV file\n",
    "df = pd.read_csv('finalDataReduced.csv')\n",
    "\n",
    "# Separate features and target variable\n",
    "X = df.iloc[:, 1:-1]\n",
    "y = df.iloc[:, -1]\n",
    "\n",
    "# Split data into training and testing sets\n",
    "X_train, X_test, y_train, y_test = train_test_split(X, y, test_size=0.2, random_state=42)\n",
    "\n",
    "# Apply Tomek links\n",
    "tl = TomekLinks(sampling_strategy='auto')\n",
    "X_resampled, y_resampled = tl.fit_resample(X, y)\n",
    "\n",
    "# Check the shape of the resampled data\n",
    "print(\"Original data shape:\", X.shape, y.shape)\n",
    "print(\"Resampled data shape:\", X_resampled.shape, y_resampled.shape)\n",
    "\n"
   ]
  },
  {
   "cell_type": "code",
   "execution_count": null,
   "id": "011c2393",
   "metadata": {},
   "outputs": [],
   "source": [
    "resampled_data = pd.concat([pd.DataFrame(X_resampled), pd.Series(y_resampled, name='label')], axis=1)\n",
    "resampled_data.to_csv('outputTomekLinks.csv', index=False)"
   ]
  },
  {
   "cell_type": "code",
   "execution_count": null,
   "id": "751814a3",
   "metadata": {},
   "outputs": [],
   "source": []
  },
  {
   "cell_type": "code",
   "execution_count": null,
   "id": "7b6e7e72",
   "metadata": {},
   "outputs": [],
   "source": []
  }
 ],
 "metadata": {
  "kernelspec": {
   "display_name": "Python 3",
   "language": "python",
   "name": "python3"
  },
  "language_info": {
   "codemirror_mode": {
    "name": "ipython",
    "version": 3
   },
   "file_extension": ".py",
   "mimetype": "text/x-python",
   "name": "python",
   "nbconvert_exporter": "python",
   "pygments_lexer": "ipython3",
   "version": "3.9.7"
  }
 },
 "nbformat": 4,
 "nbformat_minor": 5
}
